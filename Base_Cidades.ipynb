{
 "cells": [
  {
   "cell_type": "code",
   "execution_count": 3,
   "id": "f8eba290-8664-4bb5-a59d-0938bf150684",
   "metadata": {
    "tags": []
   },
   "outputs": [],
   "source": [
    "import pandas as pd\n",
    "import numpy as np"
   ]
  },
  {
   "cell_type": "code",
   "execution_count": 15,
   "id": "137ffedd-268b-43cb-8c1c-5cfd011702cc",
   "metadata": {
    "tags": []
   },
   "outputs": [],
   "source": [
    "re = pd.read_csv('regioes.csv')\n",
    "mu = pd.read_csv('municipios.csv')\n",
    "es = pd.read_csv('estados.csv')"
   ]
  },
  {
   "cell_type": "code",
   "execution_count": 16,
   "id": "2780938e-5d6b-4bf5-8cf6-b2ecadce9bd8",
   "metadata": {
    "tags": []
   },
   "outputs": [
    {
     "name": "stdout",
     "output_type": "stream",
     "text": [
      "<class 'pandas.core.frame.DataFrame'>\n",
      "RangeIndex: 5570 entries, 0 to 5569\n",
      "Data columns (total 4 columns):\n",
      " #   Column  Non-Null Count  Dtype \n",
      "---  ------  --------------  ----- \n",
      " 0   Cidade  5570 non-null   object\n",
      " 1   Uf      5570 non-null   object\n",
      " 2   Estado  5570 non-null   object\n",
      " 3   Regiao  5570 non-null   object\n",
      "dtypes: object(4)\n",
      "memory usage: 174.2+ KB\n"
     ]
    }
   ],
   "source": [
    "df = (mu.merge(es[['Nome','Uf','Regiao']], on='Uf', how='left')\n",
    "      .merge(re, left_on='Regiao', right_on='Id', how='left').\n",
    "      drop(['Id_x','Codigo','Regiao','Id_y'],axis = 1)\n",
    "      .rename(columns={'Nome_x':'Cidade','Nome_y':'Estado','Nome':'Regiao'})\n",
    "     )\n",
    "df.info()"
   ]
  },
  {
   "cell_type": "code",
   "execution_count": 17,
   "id": "93ea4836-8ee6-41c1-9ed0-24543f413fea",
   "metadata": {
    "tags": []
   },
   "outputs": [],
   "source": [
    "df.to_csv('Base_Cidades.csv',index=False)"
   ]
  },
  {
   "cell_type": "code",
   "execution_count": null,
   "id": "2f347bc6-2df9-43e0-b196-89ec133ecdfa",
   "metadata": {},
   "outputs": [],
   "source": []
  },
  {
   "cell_type": "code",
   "execution_count": null,
   "id": "f22dc1ba-db3e-40e7-9ab9-b271f68bb424",
   "metadata": {},
   "outputs": [],
   "source": []
  },
  {
   "cell_type": "code",
   "execution_count": null,
   "id": "859c3da9-8147-4e53-898b-a0cc2d2b5c75",
   "metadata": {},
   "outputs": [],
   "source": []
  }
 ],
 "metadata": {
  "kernelspec": {
   "display_name": "Python 3 (ipykernel)",
   "language": "python",
   "name": "python3"
  },
  "language_info": {
   "codemirror_mode": {
    "name": "ipython",
    "version": 3
   },
   "file_extension": ".py",
   "mimetype": "text/x-python",
   "name": "python",
   "nbconvert_exporter": "python",
   "pygments_lexer": "ipython3",
   "version": "3.10.13"
  }
 },
 "nbformat": 4,
 "nbformat_minor": 5
}
